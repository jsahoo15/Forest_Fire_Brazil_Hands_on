{
 "cells": [
  {
   "cell_type": "code",
   "execution_count": 4,
   "id": "f3f06950",
   "metadata": {},
   "outputs": [],
   "source": [
    "# to suppress warnings \n",
    "from warnings import filterwarnings\n",
    "filterwarnings('ignore')\n",
    "\n",
    "\n",
    "# import 'Pandas' \n",
    "import pandas as pd \n",
    "\n",
    "# import 'Numpy' \n",
    "import numpy as np\n",
    "\n",
    "# import subpackage of Matplotlib\n",
    "import matplotlib.pyplot as plt\n",
    "\n",
    "# import 'Seaborn' \n",
    "import seaborn as sns\n",
    "\n",
    "\n",
    "\n",
    "# display all columns of the dataframe\n",
    "pd.options.display.max_columns = None\n",
    "\n",
    "# display all rows of the dataframe\n",
    "pd.options.display.max_rows = None\n",
    " \n",
    "# to display the float values upto 3 decimal places     \n",
    "pd.options.display.float_format = '{:.3f}'.format"
   ]
  },
  {
   "cell_type": "code",
   "execution_count": null,
   "id": "2476cae2",
   "metadata": {},
   "outputs": [],
   "source": []
  },
  {
   "cell_type": "markdown",
   "id": "158d08b7",
   "metadata": {},
   "source": [
    "**Import Dataset**"
   ]
  },
  {
   "cell_type": "code",
   "execution_count": 3,
   "id": "7e6b850d",
   "metadata": {},
   "outputs": [],
   "source": [
    "forest_fire=pd.read_csv(\"ForestFireBrazil.csv\", parse_dates=[\"date\"])"
   ]
  },
  {
   "cell_type": "code",
   "execution_count": null,
   "id": "638ba3b1",
   "metadata": {},
   "outputs": [],
   "source": []
  },
  {
   "cell_type": "markdown",
   "id": "96c7e9ae",
   "metadata": {},
   "source": [
    "**1. Display Top 5 Rows of The Dataset**"
   ]
  },
  {
   "cell_type": "code",
   "execution_count": 56,
   "id": "67d92ee1",
   "metadata": {},
   "outputs": [
    {
     "data": {
      "text/html": [
       "<div>\n",
       "<style scoped>\n",
       "    .dataframe tbody tr th:only-of-type {\n",
       "        vertical-align: middle;\n",
       "    }\n",
       "\n",
       "    .dataframe tbody tr th {\n",
       "        vertical-align: top;\n",
       "    }\n",
       "\n",
       "    .dataframe thead th {\n",
       "        text-align: right;\n",
       "    }\n",
       "</style>\n",
       "<table border=\"1\" class=\"dataframe\">\n",
       "  <thead>\n",
       "    <tr style=\"text-align: right;\">\n",
       "      <th></th>\n",
       "      <th>year</th>\n",
       "      <th>state</th>\n",
       "      <th>month</th>\n",
       "      <th>number</th>\n",
       "      <th>date</th>\n",
       "    </tr>\n",
       "  </thead>\n",
       "  <tbody>\n",
       "    <tr>\n",
       "      <th>0</th>\n",
       "      <td>1998</td>\n",
       "      <td>Acre</td>\n",
       "      <td>Janeiro</td>\n",
       "      <td>0.000</td>\n",
       "      <td>1998-01-01</td>\n",
       "    </tr>\n",
       "    <tr>\n",
       "      <th>1</th>\n",
       "      <td>1999</td>\n",
       "      <td>Acre</td>\n",
       "      <td>Janeiro</td>\n",
       "      <td>0.000</td>\n",
       "      <td>1999-01-01</td>\n",
       "    </tr>\n",
       "    <tr>\n",
       "      <th>2</th>\n",
       "      <td>2000</td>\n",
       "      <td>Acre</td>\n",
       "      <td>Janeiro</td>\n",
       "      <td>0.000</td>\n",
       "      <td>2000-01-01</td>\n",
       "    </tr>\n",
       "    <tr>\n",
       "      <th>3</th>\n",
       "      <td>2001</td>\n",
       "      <td>Acre</td>\n",
       "      <td>Janeiro</td>\n",
       "      <td>0.000</td>\n",
       "      <td>2001-01-01</td>\n",
       "    </tr>\n",
       "    <tr>\n",
       "      <th>4</th>\n",
       "      <td>2002</td>\n",
       "      <td>Acre</td>\n",
       "      <td>Janeiro</td>\n",
       "      <td>0.000</td>\n",
       "      <td>2002-01-01</td>\n",
       "    </tr>\n",
       "  </tbody>\n",
       "</table>\n",
       "</div>"
      ],
      "text/plain": [
       "   year state    month  number       date\n",
       "0  1998  Acre  Janeiro   0.000 1998-01-01\n",
       "1  1999  Acre  Janeiro   0.000 1999-01-01\n",
       "2  2000  Acre  Janeiro   0.000 2000-01-01\n",
       "3  2001  Acre  Janeiro   0.000 2001-01-01\n",
       "4  2002  Acre  Janeiro   0.000 2002-01-01"
      ]
     },
     "execution_count": 56,
     "metadata": {},
     "output_type": "execute_result"
    }
   ],
   "source": [
    "forest_fire.head()"
   ]
  },
  {
   "cell_type": "code",
   "execution_count": null,
   "id": "bff8617c",
   "metadata": {},
   "outputs": [],
   "source": []
  },
  {
   "cell_type": "markdown",
   "id": "3c71167f",
   "metadata": {},
   "source": [
    "**2. Check Last 5 Rows**"
   ]
  },
  {
   "cell_type": "code",
   "execution_count": 57,
   "id": "e9c6d7aa",
   "metadata": {},
   "outputs": [
    {
     "data": {
      "text/html": [
       "<div>\n",
       "<style scoped>\n",
       "    .dataframe tbody tr th:only-of-type {\n",
       "        vertical-align: middle;\n",
       "    }\n",
       "\n",
       "    .dataframe tbody tr th {\n",
       "        vertical-align: top;\n",
       "    }\n",
       "\n",
       "    .dataframe thead th {\n",
       "        text-align: right;\n",
       "    }\n",
       "</style>\n",
       "<table border=\"1\" class=\"dataframe\">\n",
       "  <thead>\n",
       "    <tr style=\"text-align: right;\">\n",
       "      <th></th>\n",
       "      <th>year</th>\n",
       "      <th>state</th>\n",
       "      <th>month</th>\n",
       "      <th>number</th>\n",
       "      <th>date</th>\n",
       "    </tr>\n",
       "  </thead>\n",
       "  <tbody>\n",
       "    <tr>\n",
       "      <th>6449</th>\n",
       "      <td>2012</td>\n",
       "      <td>Tocantins</td>\n",
       "      <td>Dezembro</td>\n",
       "      <td>128.000</td>\n",
       "      <td>2012-01-01</td>\n",
       "    </tr>\n",
       "    <tr>\n",
       "      <th>6450</th>\n",
       "      <td>2013</td>\n",
       "      <td>Tocantins</td>\n",
       "      <td>Dezembro</td>\n",
       "      <td>85.000</td>\n",
       "      <td>2013-01-01</td>\n",
       "    </tr>\n",
       "    <tr>\n",
       "      <th>6451</th>\n",
       "      <td>2014</td>\n",
       "      <td>Tocantins</td>\n",
       "      <td>Dezembro</td>\n",
       "      <td>223.000</td>\n",
       "      <td>2014-01-01</td>\n",
       "    </tr>\n",
       "    <tr>\n",
       "      <th>6452</th>\n",
       "      <td>2015</td>\n",
       "      <td>Tocantins</td>\n",
       "      <td>Dezembro</td>\n",
       "      <td>373.000</td>\n",
       "      <td>2015-01-01</td>\n",
       "    </tr>\n",
       "    <tr>\n",
       "      <th>6453</th>\n",
       "      <td>2016</td>\n",
       "      <td>Tocantins</td>\n",
       "      <td>Dezembro</td>\n",
       "      <td>119.000</td>\n",
       "      <td>2016-01-01</td>\n",
       "    </tr>\n",
       "  </tbody>\n",
       "</table>\n",
       "</div>"
      ],
      "text/plain": [
       "      year      state     month  number       date\n",
       "6449  2012  Tocantins  Dezembro 128.000 2012-01-01\n",
       "6450  2013  Tocantins  Dezembro  85.000 2013-01-01\n",
       "6451  2014  Tocantins  Dezembro 223.000 2014-01-01\n",
       "6452  2015  Tocantins  Dezembro 373.000 2015-01-01\n",
       "6453  2016  Tocantins  Dezembro 119.000 2016-01-01"
      ]
     },
     "execution_count": 57,
     "metadata": {},
     "output_type": "execute_result"
    }
   ],
   "source": [
    "forest_fire.tail()"
   ]
  },
  {
   "cell_type": "markdown",
   "id": "685a9af7",
   "metadata": {},
   "source": [
    "**3. Find Shape of Our Dataset (Number of Rows And Number of Columns)**"
   ]
  },
  {
   "cell_type": "code",
   "execution_count": 58,
   "id": "8f9c5c21",
   "metadata": {},
   "outputs": [
    {
     "data": {
      "text/plain": [
       "(6454, 5)"
      ]
     },
     "execution_count": 58,
     "metadata": {},
     "output_type": "execute_result"
    }
   ],
   "source": [
    "forest_fire.shape"
   ]
  },
  {
   "cell_type": "markdown",
   "id": "ac86bd8a",
   "metadata": {},
   "source": [
    "**4. Getting Information About Our Dataset Like Total Number Rows, Total Number of Columns, Datatypes of Each Column And Memory Requirement**"
   ]
  },
  {
   "cell_type": "code",
   "execution_count": 59,
   "id": "78f628f3",
   "metadata": {},
   "outputs": [
    {
     "name": "stdout",
     "output_type": "stream",
     "text": [
      "<class 'pandas.core.frame.DataFrame'>\n",
      "RangeIndex: 6454 entries, 0 to 6453\n",
      "Data columns (total 5 columns):\n",
      " #   Column  Non-Null Count  Dtype         \n",
      "---  ------  --------------  -----         \n",
      " 0   year    6454 non-null   int64         \n",
      " 1   state   6454 non-null   object        \n",
      " 2   month   6454 non-null   object        \n",
      " 3   number  6454 non-null   float64       \n",
      " 4   date    6454 non-null   datetime64[ns]\n",
      "dtypes: datetime64[ns](1), float64(1), int64(1), object(2)\n",
      "memory usage: 252.2+ KB\n"
     ]
    }
   ],
   "source": [
    "forest_fire.info()"
   ]
  },
  {
   "cell_type": "markdown",
   "id": "841c9142",
   "metadata": {},
   "source": [
    "**5. Check For Duplicate Data and Drop Them**"
   ]
  },
  {
   "cell_type": "code",
   "execution_count": 60,
   "id": "690f1bb6",
   "metadata": {},
   "outputs": [
    {
     "data": {
      "text/plain": [
       "32"
      ]
     },
     "execution_count": 60,
     "metadata": {},
     "output_type": "execute_result"
    }
   ],
   "source": [
    "forest_fire.duplicated().sum()"
   ]
  },
  {
   "cell_type": "code",
   "execution_count": 61,
   "id": "17ef3f4a",
   "metadata": {},
   "outputs": [],
   "source": [
    "forest_fire.drop_duplicates(inplace=True)"
   ]
  },
  {
   "cell_type": "code",
   "execution_count": null,
   "id": "4aa4d99c",
   "metadata": {},
   "outputs": [],
   "source": []
  },
  {
   "cell_type": "markdown",
   "id": "c99e82df",
   "metadata": {},
   "source": [
    "**6. Check Null Values In The Dataset**"
   ]
  },
  {
   "cell_type": "code",
   "execution_count": 62,
   "id": "7b855588",
   "metadata": {},
   "outputs": [
    {
     "data": {
      "text/plain": [
       "year      0\n",
       "state     0\n",
       "month     0\n",
       "number    0\n",
       "date      0\n",
       "dtype: int64"
      ]
     },
     "execution_count": 62,
     "metadata": {},
     "output_type": "execute_result"
    }
   ],
   "source": [
    "forest_fire.isnull().sum()"
   ]
  },
  {
   "cell_type": "markdown",
   "id": "ef625d56",
   "metadata": {},
   "source": [
    "**7. Get Overall Statistics About The Dataframe**"
   ]
  },
  {
   "cell_type": "code",
   "execution_count": 63,
   "id": "fae4c900",
   "metadata": {},
   "outputs": [
    {
     "data": {
      "text/html": [
       "<div>\n",
       "<style scoped>\n",
       "    .dataframe tbody tr th:only-of-type {\n",
       "        vertical-align: middle;\n",
       "    }\n",
       "\n",
       "    .dataframe tbody tr th {\n",
       "        vertical-align: top;\n",
       "    }\n",
       "\n",
       "    .dataframe thead th {\n",
       "        text-align: right;\n",
       "    }\n",
       "</style>\n",
       "<table border=\"1\" class=\"dataframe\">\n",
       "  <thead>\n",
       "    <tr style=\"text-align: right;\">\n",
       "      <th></th>\n",
       "      <th>count</th>\n",
       "      <th>unique</th>\n",
       "      <th>top</th>\n",
       "      <th>freq</th>\n",
       "      <th>first</th>\n",
       "      <th>last</th>\n",
       "      <th>mean</th>\n",
       "      <th>std</th>\n",
       "      <th>min</th>\n",
       "      <th>25%</th>\n",
       "      <th>50%</th>\n",
       "      <th>75%</th>\n",
       "      <th>max</th>\n",
       "    </tr>\n",
       "  </thead>\n",
       "  <tbody>\n",
       "    <tr>\n",
       "      <th>year</th>\n",
       "      <td>6422.000</td>\n",
       "      <td>NaN</td>\n",
       "      <td>NaN</td>\n",
       "      <td>NaN</td>\n",
       "      <td>NaT</td>\n",
       "      <td>NaT</td>\n",
       "      <td>2007.491</td>\n",
       "      <td>5.732</td>\n",
       "      <td>1998.000</td>\n",
       "      <td>2003.000</td>\n",
       "      <td>2007.000</td>\n",
       "      <td>2012.000</td>\n",
       "      <td>2017.000</td>\n",
       "    </tr>\n",
       "    <tr>\n",
       "      <th>state</th>\n",
       "      <td>6422</td>\n",
       "      <td>23</td>\n",
       "      <td>Rio</td>\n",
       "      <td>697</td>\n",
       "      <td>NaT</td>\n",
       "      <td>NaT</td>\n",
       "      <td>NaN</td>\n",
       "      <td>NaN</td>\n",
       "      <td>NaN</td>\n",
       "      <td>NaN</td>\n",
       "      <td>NaN</td>\n",
       "      <td>NaN</td>\n",
       "      <td>NaN</td>\n",
       "    </tr>\n",
       "    <tr>\n",
       "      <th>month</th>\n",
       "      <td>6422</td>\n",
       "      <td>12</td>\n",
       "      <td>Agosto</td>\n",
       "      <td>540</td>\n",
       "      <td>NaT</td>\n",
       "      <td>NaT</td>\n",
       "      <td>NaN</td>\n",
       "      <td>NaN</td>\n",
       "      <td>NaN</td>\n",
       "      <td>NaN</td>\n",
       "      <td>NaN</td>\n",
       "      <td>NaN</td>\n",
       "      <td>NaN</td>\n",
       "    </tr>\n",
       "    <tr>\n",
       "      <th>number</th>\n",
       "      <td>6422.000</td>\n",
       "      <td>NaN</td>\n",
       "      <td>NaN</td>\n",
       "      <td>NaN</td>\n",
       "      <td>NaT</td>\n",
       "      <td>NaT</td>\n",
       "      <td>108.815</td>\n",
       "      <td>191.142</td>\n",
       "      <td>0.000</td>\n",
       "      <td>3.000</td>\n",
       "      <td>24.497</td>\n",
       "      <td>114.000</td>\n",
       "      <td>998.000</td>\n",
       "    </tr>\n",
       "    <tr>\n",
       "      <th>date</th>\n",
       "      <td>6422</td>\n",
       "      <td>20</td>\n",
       "      <td>2015-01-01 00:00:00</td>\n",
       "      <td>324</td>\n",
       "      <td>1998-01-01</td>\n",
       "      <td>2017-01-01</td>\n",
       "      <td>NaN</td>\n",
       "      <td>NaN</td>\n",
       "      <td>NaN</td>\n",
       "      <td>NaN</td>\n",
       "      <td>NaN</td>\n",
       "      <td>NaN</td>\n",
       "      <td>NaN</td>\n",
       "    </tr>\n",
       "  </tbody>\n",
       "</table>\n",
       "</div>"
      ],
      "text/plain": [
       "          count unique                  top freq      first       last  \\\n",
       "year   6422.000    NaN                  NaN  NaN        NaT        NaT   \n",
       "state      6422     23                  Rio  697        NaT        NaT   \n",
       "month      6422     12               Agosto  540        NaT        NaT   \n",
       "number 6422.000    NaN                  NaN  NaN        NaT        NaT   \n",
       "date       6422     20  2015-01-01 00:00:00  324 1998-01-01 2017-01-01   \n",
       "\n",
       "           mean     std      min      25%      50%      75%      max  \n",
       "year   2007.491   5.732 1998.000 2003.000 2007.000 2012.000 2017.000  \n",
       "state       NaN     NaN      NaN      NaN      NaN      NaN      NaN  \n",
       "month       NaN     NaN      NaN      NaN      NaN      NaN      NaN  \n",
       "number  108.815 191.142    0.000    3.000   24.497  114.000  998.000  \n",
       "date        NaN     NaN      NaN      NaN      NaN      NaN      NaN  "
      ]
     },
     "execution_count": 63,
     "metadata": {},
     "output_type": "execute_result"
    }
   ],
   "source": [
    "forest_fire.describe(include=\"all\").T"
   ]
  },
  {
   "cell_type": "code",
   "execution_count": null,
   "id": "425f777c",
   "metadata": {},
   "outputs": [],
   "source": []
  },
  {
   "cell_type": "markdown",
   "id": "36149674",
   "metadata": {},
   "source": [
    "**8. Rename Month Names To English**"
   ]
  },
  {
   "cell_type": "code",
   "execution_count": 64,
   "id": "c726e83b",
   "metadata": {},
   "outputs": [
    {
     "data": {
      "text/plain": [
       "Agosto       540\n",
       "Setembro     540\n",
       "Outubro      540\n",
       "Novembro     540\n",
       "Junho        539\n",
       "Julho        539\n",
       "Janeiro      535\n",
       "Fevereiro    535\n",
       "Março        534\n",
       "Abril        534\n",
       "Maio         533\n",
       "Dezembro     513\n",
       "Name: month, dtype: int64"
      ]
     },
     "execution_count": 64,
     "metadata": {},
     "output_type": "execute_result"
    }
   ],
   "source": [
    "forest_fire.month.value_counts()"
   ]
  },
  {
   "cell_type": "code",
   "execution_count": 65,
   "id": "8e5ff3ba",
   "metadata": {},
   "outputs": [],
   "source": [
    "month_dict={\"Janeiro\":\"January\", \"Fevereiro\":\"February\", \"Março\": \"March\",\"Abril\" : \"April\", \n",
    "            \"Maio\":\"May\" , \"Dezembro\":\"December\", \"Agosto\": \"August\", \"Setembro\":\"September\", \"Novembro\" :\"November\" \n",
    "           ,\"Junho\": \"June\",  \"Julho\": \"July\", \"Outubro\":\"October\"}"
   ]
  },
  {
   "cell_type": "code",
   "execution_count": 66,
   "id": "98bdf2f8",
   "metadata": {},
   "outputs": [],
   "source": [
    "forest_fire.month.replace(month_dict, inplace=True)"
   ]
  },
  {
   "cell_type": "code",
   "execution_count": 67,
   "id": "9e357d2a",
   "metadata": {},
   "outputs": [
    {
     "data": {
      "text/plain": [
       "August       540\n",
       "September    540\n",
       "October      540\n",
       "November     540\n",
       "June         539\n",
       "July         539\n",
       "January      535\n",
       "February     535\n",
       "March        534\n",
       "April        534\n",
       "May          533\n",
       "December     513\n",
       "Name: month, dtype: int64"
      ]
     },
     "execution_count": 67,
     "metadata": {},
     "output_type": "execute_result"
    }
   ],
   "source": [
    "forest_fire.month.value_counts()"
   ]
  },
  {
   "cell_type": "code",
   "execution_count": null,
   "id": "5accd400",
   "metadata": {},
   "outputs": [],
   "source": []
  },
  {
   "cell_type": "markdown",
   "id": "d7f2dd03",
   "metadata": {},
   "source": [
    "**9. Total Number of Fires Registered**"
   ]
  },
  {
   "cell_type": "code",
   "execution_count": 68,
   "id": "d3f26840",
   "metadata": {},
   "outputs": [
    {
     "data": {
      "text/plain": [
       "6422"
      ]
     },
     "execution_count": 68,
     "metadata": {},
     "output_type": "execute_result"
    }
   ],
   "source": [
    "len(forest_fire)"
   ]
  },
  {
   "cell_type": "code",
   "execution_count": 69,
   "id": "0b73aac8",
   "metadata": {},
   "outputs": [
    {
     "data": {
      "text/plain": [
       "698811.073"
      ]
     },
     "execution_count": 69,
     "metadata": {},
     "output_type": "execute_result"
    }
   ],
   "source": [
    "forest_fire.number.sum()"
   ]
  },
  {
   "cell_type": "markdown",
   "id": "7fd5c293",
   "metadata": {},
   "source": [
    "-  There are total 698811.073  registered."
   ]
  },
  {
   "cell_type": "code",
   "execution_count": null,
   "id": "4e72cb22",
   "metadata": {},
   "outputs": [],
   "source": []
  },
  {
   "cell_type": "markdown",
   "id": "5f521d1a",
   "metadata": {},
   "source": [
    "**10. In Which Month Maximum Number of Forest Fires Were Reported?**"
   ]
  },
  {
   "cell_type": "code",
   "execution_count": 70,
   "id": "f8f7217f",
   "metadata": {},
   "outputs": [
    {
     "data": {
      "text/plain": [
       "month\n",
       "April       28185.000\n",
       "August      88050.000\n",
       "December    57535.000\n",
       "February    30839.000\n",
       "January     47682.000\n",
       "July        92319.000\n",
       "June        55998.000\n",
       "March       30709.000\n",
       "May         34725.000\n",
       "November    85508.000\n",
       "October     88682.000\n",
       "September   58578.000\n",
       "Name: number, dtype: float64"
      ]
     },
     "execution_count": 70,
     "metadata": {},
     "output_type": "execute_result"
    }
   ],
   "source": [
    "fire_reg_month=forest_fire.groupby(by=\"month\").sum().round()[\"number\"]\n",
    "fire_reg_month"
   ]
  },
  {
   "cell_type": "code",
   "execution_count": 71,
   "id": "1fdb3a10",
   "metadata": {},
   "outputs": [
    {
     "data": {
      "text/plain": [
       "month\n",
       "July        92319.000\n",
       "October     88682.000\n",
       "August      88050.000\n",
       "November    85508.000\n",
       "September   58578.000\n",
       "December    57535.000\n",
       "June        55998.000\n",
       "January     47682.000\n",
       "May         34725.000\n",
       "February    30839.000\n",
       "March       30709.000\n",
       "April       28185.000\n",
       "Name: number, dtype: float64"
      ]
     },
     "execution_count": 71,
     "metadata": {},
     "output_type": "execute_result"
    }
   ],
   "source": [
    "fire_reg_month.sort_values( ascending=False)"
   ]
  },
  {
   "cell_type": "markdown",
   "id": "a3bc1eb6",
   "metadata": {},
   "source": [
    "- The July month has maximum number of fire registered."
   ]
  },
  {
   "cell_type": "code",
   "execution_count": 72,
   "id": "41f36cc6",
   "metadata": {},
   "outputs": [
    {
     "data": {
      "text/plain": [
       "Index(['year', 'state', 'month', 'number', 'date'], dtype='object')"
      ]
     },
     "execution_count": 72,
     "metadata": {},
     "output_type": "execute_result"
    }
   ],
   "source": [
    "forest_fire.columns"
   ]
  },
  {
   "cell_type": "markdown",
   "id": "40a2669c",
   "metadata": {},
   "source": [
    "**11. In Which Year Maximum Number of Forest Fires Was Reported?**"
   ]
  },
  {
   "cell_type": "code",
   "execution_count": 73,
   "id": "db10a9e8",
   "metadata": {
    "scrolled": false
   },
   "outputs": [
    {
     "data": {
      "text/plain": [
       "year\n",
       "1998   20014.000\n",
       "1999   26883.000\n",
       "2000   27351.000\n",
       "2001   29055.000\n",
       "2002   37391.000\n",
       "2003   42761.000\n",
       "2004   38450.000\n",
       "2005   35005.000\n",
       "2006   33824.000\n",
       "2007   33028.000\n",
       "2008   29379.000\n",
       "2009   39116.000\n",
       "2010   37037.000\n",
       "2011   34634.000\n",
       "2012   40085.000\n",
       "2013   35137.000\n",
       "2014   39621.000\n",
       "2015   41208.000\n",
       "2016   42212.000\n",
       "2017   36620.000\n",
       "Name: number, dtype: float64"
      ]
     },
     "execution_count": 73,
     "metadata": {},
     "output_type": "execute_result"
    }
   ],
   "source": [
    "fire_reg_year=forest_fire.groupby(by=\"year\").sum().round()[\"number\"]\n",
    "fire_reg_year"
   ]
  },
  {
   "cell_type": "code",
   "execution_count": 74,
   "id": "49ebe0f3",
   "metadata": {},
   "outputs": [
    {
     "data": {
      "text/plain": [
       "year\n",
       "2003   42761.000\n",
       "2016   42212.000\n",
       "2015   41208.000\n",
       "2012   40085.000\n",
       "2014   39621.000\n",
       "2009   39116.000\n",
       "2004   38450.000\n",
       "2002   37391.000\n",
       "2010   37037.000\n",
       "2017   36620.000\n",
       "2013   35137.000\n",
       "2005   35005.000\n",
       "2011   34634.000\n",
       "2006   33824.000\n",
       "2007   33028.000\n",
       "2008   29379.000\n",
       "2001   29055.000\n",
       "2000   27351.000\n",
       "1999   26883.000\n",
       "1998   20014.000\n",
       "Name: number, dtype: float64"
      ]
     },
     "execution_count": 74,
     "metadata": {},
     "output_type": "execute_result"
    }
   ],
   "source": [
    "fire_reg_year.sort_values(ascending=False)"
   ]
  },
  {
   "cell_type": "markdown",
   "id": "94ea8820",
   "metadata": {},
   "source": [
    "- The year 2003 has maximum number of fire case registered."
   ]
  },
  {
   "cell_type": "code",
   "execution_count": null,
   "id": "f57dc79c",
   "metadata": {},
   "outputs": [],
   "source": []
  },
  {
   "cell_type": "markdown",
   "id": "26390442",
   "metadata": {},
   "source": [
    "**12. In Which State Maximum Number of Forest Fires Was Reported?**"
   ]
  },
  {
   "cell_type": "code",
   "execution_count": 75,
   "id": "950571d7",
   "metadata": {},
   "outputs": [
    {
     "data": {
      "text/plain": [
       "state\n",
       "Acre               18464.000\n",
       "Alagoas             4606.000\n",
       "Amapa              21832.000\n",
       "Amazonas           30650.000\n",
       "Bahia              44746.000\n",
       "Ceara              30428.000\n",
       "Distrito Federal    3561.000\n",
       "Espirito Santo      6546.000\n",
       "Goias              37696.000\n",
       "Maranhao           25129.000\n",
       "Mato Grosso        96246.000\n",
       "Minas Gerais       37475.000\n",
       "Paraiba            52427.000\n",
       "Pará               24512.000\n",
       "Pernambuco         24498.000\n",
       "Piau               37804.000\n",
       "Rio                45095.000\n",
       "Rondonia           20285.000\n",
       "Roraima            24385.000\n",
       "Santa Catarina     24360.000\n",
       "Sao Paulo          51121.000\n",
       "Sergipe             3237.000\n",
       "Tocantins          33708.000\n",
       "Name: number, dtype: float64"
      ]
     },
     "execution_count": 75,
     "metadata": {},
     "output_type": "execute_result"
    }
   ],
   "source": [
    "fire_reg_state=forest_fire.groupby(by=\"state\").sum().round()[\"number\"]\n",
    "fire_reg_state"
   ]
  },
  {
   "cell_type": "code",
   "execution_count": 76,
   "id": "64510135",
   "metadata": {},
   "outputs": [
    {
     "data": {
      "text/plain": [
       "state\n",
       "Mato Grosso        96246.000\n",
       "Paraiba            52427.000\n",
       "Sao Paulo          51121.000\n",
       "Rio                45095.000\n",
       "Bahia              44746.000\n",
       "Piau               37804.000\n",
       "Goias              37696.000\n",
       "Minas Gerais       37475.000\n",
       "Tocantins          33708.000\n",
       "Amazonas           30650.000\n",
       "Ceara              30428.000\n",
       "Maranhao           25129.000\n",
       "Pará               24512.000\n",
       "Pernambuco         24498.000\n",
       "Roraima            24385.000\n",
       "Santa Catarina     24360.000\n",
       "Amapa              21832.000\n",
       "Rondonia           20285.000\n",
       "Acre               18464.000\n",
       "Espirito Santo      6546.000\n",
       "Alagoas             4606.000\n",
       "Distrito Federal    3561.000\n",
       "Sergipe             3237.000\n",
       "Name: number, dtype: float64"
      ]
     },
     "execution_count": 76,
     "metadata": {},
     "output_type": "execute_result"
    }
   ],
   "source": [
    "fire_reg_state.sort_values(ascending=False)"
   ]
  },
  {
   "cell_type": "markdown",
   "id": "e14dcd4e",
   "metadata": {},
   "source": [
    "- The state Mato Grosso has maximum number of fire registered."
   ]
  },
  {
   "cell_type": "code",
   "execution_count": null,
   "id": "2740c262",
   "metadata": {},
   "outputs": [],
   "source": []
  },
  {
   "cell_type": "markdown",
   "id": "c5dbec8c",
   "metadata": {},
   "source": [
    "**13. Find Total Number of Fires Were Reported In Amazonas**"
   ]
  },
  {
   "cell_type": "code",
   "execution_count": 77,
   "id": "241b3cb8",
   "metadata": {},
   "outputs": [
    {
     "data": {
      "text/plain": [
       "state\n",
       "Amazonas   30650.000\n",
       "Name: number, dtype: float64"
      ]
     },
     "execution_count": 77,
     "metadata": {},
     "output_type": "execute_result"
    }
   ],
   "source": [
    "fire_reg_state[fire_reg_state.keys()==\"Amazonas\"]"
   ]
  },
  {
   "cell_type": "markdown",
   "id": "c6a731a5",
   "metadata": {},
   "source": [
    "- There are 30650 fire case are registered in Amazonas."
   ]
  },
  {
   "cell_type": "code",
   "execution_count": null,
   "id": "1e62ffa7",
   "metadata": {},
   "outputs": [],
   "source": []
  },
  {
   "cell_type": "markdown",
   "id": "0cb4e6b9",
   "metadata": {},
   "source": [
    "**14. Display Number of Fires Were Reported In Amazonas (Year-Wise)**"
   ]
  },
  {
   "cell_type": "code",
   "execution_count": 78,
   "id": "9923532d",
   "metadata": {},
   "outputs": [
    {
     "data": {
      "text/html": [
       "<div>\n",
       "<style scoped>\n",
       "    .dataframe tbody tr th:only-of-type {\n",
       "        vertical-align: middle;\n",
       "    }\n",
       "\n",
       "    .dataframe tbody tr th {\n",
       "        vertical-align: top;\n",
       "    }\n",
       "\n",
       "    .dataframe thead th {\n",
       "        text-align: right;\n",
       "    }\n",
       "</style>\n",
       "<table border=\"1\" class=\"dataframe\">\n",
       "  <thead>\n",
       "    <tr style=\"text-align: right;\">\n",
       "      <th></th>\n",
       "      <th>number</th>\n",
       "    </tr>\n",
       "    <tr>\n",
       "      <th>year</th>\n",
       "      <th></th>\n",
       "    </tr>\n",
       "  </thead>\n",
       "  <tbody>\n",
       "    <tr>\n",
       "      <th>1998</th>\n",
       "      <td>946.000</td>\n",
       "    </tr>\n",
       "    <tr>\n",
       "      <th>1999</th>\n",
       "      <td>1061.000</td>\n",
       "    </tr>\n",
       "    <tr>\n",
       "      <th>2000</th>\n",
       "      <td>853.000</td>\n",
       "    </tr>\n",
       "    <tr>\n",
       "      <th>2001</th>\n",
       "      <td>1297.000</td>\n",
       "    </tr>\n",
       "    <tr>\n",
       "      <th>2002</th>\n",
       "      <td>2852.000</td>\n",
       "    </tr>\n",
       "    <tr>\n",
       "      <th>2003</th>\n",
       "      <td>1524.268</td>\n",
       "    </tr>\n",
       "    <tr>\n",
       "      <th>2004</th>\n",
       "      <td>2298.207</td>\n",
       "    </tr>\n",
       "    <tr>\n",
       "      <th>2005</th>\n",
       "      <td>1657.128</td>\n",
       "    </tr>\n",
       "    <tr>\n",
       "      <th>2006</th>\n",
       "      <td>997.640</td>\n",
       "    </tr>\n",
       "    <tr>\n",
       "      <th>2007</th>\n",
       "      <td>589.601</td>\n",
       "    </tr>\n",
       "    <tr>\n",
       "      <th>2008</th>\n",
       "      <td>2717.000</td>\n",
       "    </tr>\n",
       "    <tr>\n",
       "      <th>2009</th>\n",
       "      <td>1320.601</td>\n",
       "    </tr>\n",
       "    <tr>\n",
       "      <th>2010</th>\n",
       "      <td>2324.508</td>\n",
       "    </tr>\n",
       "    <tr>\n",
       "      <th>2011</th>\n",
       "      <td>1652.538</td>\n",
       "    </tr>\n",
       "    <tr>\n",
       "      <th>2012</th>\n",
       "      <td>1110.641</td>\n",
       "    </tr>\n",
       "    <tr>\n",
       "      <th>2013</th>\n",
       "      <td>905.217</td>\n",
       "    </tr>\n",
       "    <tr>\n",
       "      <th>2014</th>\n",
       "      <td>2385.909</td>\n",
       "    </tr>\n",
       "    <tr>\n",
       "      <th>2015</th>\n",
       "      <td>1189.994</td>\n",
       "    </tr>\n",
       "    <tr>\n",
       "      <th>2016</th>\n",
       "      <td>2060.972</td>\n",
       "    </tr>\n",
       "    <tr>\n",
       "      <th>2017</th>\n",
       "      <td>906.905</td>\n",
       "    </tr>\n",
       "  </tbody>\n",
       "</table>\n",
       "</div>"
      ],
      "text/plain": [
       "       number\n",
       "year         \n",
       "1998  946.000\n",
       "1999 1061.000\n",
       "2000  853.000\n",
       "2001 1297.000\n",
       "2002 2852.000\n",
       "2003 1524.268\n",
       "2004 2298.207\n",
       "2005 1657.128\n",
       "2006  997.640\n",
       "2007  589.601\n",
       "2008 2717.000\n",
       "2009 1320.601\n",
       "2010 2324.508\n",
       "2011 1652.538\n",
       "2012 1110.641\n",
       "2013  905.217\n",
       "2014 2385.909\n",
       "2015 1189.994\n",
       "2016 2060.972\n",
       "2017  906.905"
      ]
     },
     "execution_count": 78,
     "metadata": {},
     "output_type": "execute_result"
    }
   ],
   "source": [
    "forest_fire[forest_fire.state==\"Amazonas\"].groupby(by=\"year\").sum()"
   ]
  },
  {
   "cell_type": "code",
   "execution_count": null,
   "id": "9249b725",
   "metadata": {},
   "outputs": [],
   "source": []
  },
  {
   "cell_type": "markdown",
   "id": "8ee5e09c",
   "metadata": {},
   "source": [
    "**15. Display Number of Fires Were Reported In Amazonas (Day-Wise)**"
   ]
  },
  {
   "cell_type": "code",
   "execution_count": 79,
   "id": "eb51840d",
   "metadata": {
    "scrolled": false
   },
   "outputs": [
    {
     "data": {
      "text/html": [
       "<div>\n",
       "<style scoped>\n",
       "    .dataframe tbody tr th:only-of-type {\n",
       "        vertical-align: middle;\n",
       "    }\n",
       "\n",
       "    .dataframe tbody tr th {\n",
       "        vertical-align: top;\n",
       "    }\n",
       "\n",
       "    .dataframe thead th {\n",
       "        text-align: right;\n",
       "    }\n",
       "</style>\n",
       "<table border=\"1\" class=\"dataframe\">\n",
       "  <thead>\n",
       "    <tr style=\"text-align: right;\">\n",
       "      <th></th>\n",
       "      <th>year</th>\n",
       "      <th>state</th>\n",
       "      <th>month</th>\n",
       "      <th>number</th>\n",
       "      <th>date</th>\n",
       "    </tr>\n",
       "  </thead>\n",
       "  <tbody>\n",
       "    <tr>\n",
       "      <th>0</th>\n",
       "      <td>1998</td>\n",
       "      <td>Acre</td>\n",
       "      <td>January</td>\n",
       "      <td>0.000</td>\n",
       "      <td>1998-01-01</td>\n",
       "    </tr>\n",
       "    <tr>\n",
       "      <th>1</th>\n",
       "      <td>1999</td>\n",
       "      <td>Acre</td>\n",
       "      <td>January</td>\n",
       "      <td>0.000</td>\n",
       "      <td>1999-01-01</td>\n",
       "    </tr>\n",
       "    <tr>\n",
       "      <th>2</th>\n",
       "      <td>2000</td>\n",
       "      <td>Acre</td>\n",
       "      <td>January</td>\n",
       "      <td>0.000</td>\n",
       "      <td>2000-01-01</td>\n",
       "    </tr>\n",
       "    <tr>\n",
       "      <th>3</th>\n",
       "      <td>2001</td>\n",
       "      <td>Acre</td>\n",
       "      <td>January</td>\n",
       "      <td>0.000</td>\n",
       "      <td>2001-01-01</td>\n",
       "    </tr>\n",
       "    <tr>\n",
       "      <th>4</th>\n",
       "      <td>2002</td>\n",
       "      <td>Acre</td>\n",
       "      <td>January</td>\n",
       "      <td>0.000</td>\n",
       "      <td>2002-01-01</td>\n",
       "    </tr>\n",
       "  </tbody>\n",
       "</table>\n",
       "</div>"
      ],
      "text/plain": [
       "   year state    month  number       date\n",
       "0  1998  Acre  January   0.000 1998-01-01\n",
       "1  1999  Acre  January   0.000 1999-01-01\n",
       "2  2000  Acre  January   0.000 2000-01-01\n",
       "3  2001  Acre  January   0.000 2001-01-01\n",
       "4  2002  Acre  January   0.000 2002-01-01"
      ]
     },
     "execution_count": 79,
     "metadata": {},
     "output_type": "execute_result"
    }
   ],
   "source": [
    "forest_fire.head()"
   ]
  },
  {
   "cell_type": "code",
   "execution_count": 80,
   "id": "4bbd9cbb",
   "metadata": {},
   "outputs": [],
   "source": [
    "import datetime"
   ]
  },
  {
   "cell_type": "code",
   "execution_count": 84,
   "id": "7113a95c",
   "metadata": {},
   "outputs": [],
   "source": [
    "forest_fire['date']=pd.to_datetime(forest_fire[\"date\"])"
   ]
  },
  {
   "cell_type": "code",
   "execution_count": 86,
   "id": "46dbd104",
   "metadata": {},
   "outputs": [],
   "source": [
    "forest_fire[\"day\"]=forest_fire['date'].dt.day_name()"
   ]
  },
  {
   "cell_type": "code",
   "execution_count": 87,
   "id": "f992cb9a",
   "metadata": {},
   "outputs": [
    {
     "data": {
      "text/html": [
       "<div>\n",
       "<style scoped>\n",
       "    .dataframe tbody tr th:only-of-type {\n",
       "        vertical-align: middle;\n",
       "    }\n",
       "\n",
       "    .dataframe tbody tr th {\n",
       "        vertical-align: top;\n",
       "    }\n",
       "\n",
       "    .dataframe thead th {\n",
       "        text-align: right;\n",
       "    }\n",
       "</style>\n",
       "<table border=\"1\" class=\"dataframe\">\n",
       "  <thead>\n",
       "    <tr style=\"text-align: right;\">\n",
       "      <th></th>\n",
       "      <th>year</th>\n",
       "      <th>state</th>\n",
       "      <th>month</th>\n",
       "      <th>number</th>\n",
       "      <th>date</th>\n",
       "      <th>day</th>\n",
       "    </tr>\n",
       "  </thead>\n",
       "  <tbody>\n",
       "    <tr>\n",
       "      <th>0</th>\n",
       "      <td>1998</td>\n",
       "      <td>Acre</td>\n",
       "      <td>January</td>\n",
       "      <td>0.000</td>\n",
       "      <td>1998-01-01</td>\n",
       "      <td>Thursday</td>\n",
       "    </tr>\n",
       "    <tr>\n",
       "      <th>1</th>\n",
       "      <td>1999</td>\n",
       "      <td>Acre</td>\n",
       "      <td>January</td>\n",
       "      <td>0.000</td>\n",
       "      <td>1999-01-01</td>\n",
       "      <td>Friday</td>\n",
       "    </tr>\n",
       "    <tr>\n",
       "      <th>2</th>\n",
       "      <td>2000</td>\n",
       "      <td>Acre</td>\n",
       "      <td>January</td>\n",
       "      <td>0.000</td>\n",
       "      <td>2000-01-01</td>\n",
       "      <td>Saturday</td>\n",
       "    </tr>\n",
       "    <tr>\n",
       "      <th>3</th>\n",
       "      <td>2001</td>\n",
       "      <td>Acre</td>\n",
       "      <td>January</td>\n",
       "      <td>0.000</td>\n",
       "      <td>2001-01-01</td>\n",
       "      <td>Monday</td>\n",
       "    </tr>\n",
       "    <tr>\n",
       "      <th>4</th>\n",
       "      <td>2002</td>\n",
       "      <td>Acre</td>\n",
       "      <td>January</td>\n",
       "      <td>0.000</td>\n",
       "      <td>2002-01-01</td>\n",
       "      <td>Tuesday</td>\n",
       "    </tr>\n",
       "  </tbody>\n",
       "</table>\n",
       "</div>"
      ],
      "text/plain": [
       "   year state    month  number       date       day\n",
       "0  1998  Acre  January   0.000 1998-01-01  Thursday\n",
       "1  1999  Acre  January   0.000 1999-01-01    Friday\n",
       "2  2000  Acre  January   0.000 2000-01-01  Saturday\n",
       "3  2001  Acre  January   0.000 2001-01-01    Monday\n",
       "4  2002  Acre  January   0.000 2002-01-01   Tuesday"
      ]
     },
     "execution_count": 87,
     "metadata": {},
     "output_type": "execute_result"
    }
   ],
   "source": [
    "forest_fire.head()"
   ]
  },
  {
   "cell_type": "code",
   "execution_count": 90,
   "id": "accf2ff1",
   "metadata": {},
   "outputs": [
    {
     "data": {
      "text/html": [
       "<div>\n",
       "<style scoped>\n",
       "    .dataframe tbody tr th:only-of-type {\n",
       "        vertical-align: middle;\n",
       "    }\n",
       "\n",
       "    .dataframe tbody tr th {\n",
       "        vertical-align: top;\n",
       "    }\n",
       "\n",
       "    .dataframe thead th {\n",
       "        text-align: right;\n",
       "    }\n",
       "</style>\n",
       "<table border=\"1\" class=\"dataframe\">\n",
       "  <thead>\n",
       "    <tr style=\"text-align: right;\">\n",
       "      <th></th>\n",
       "      <th>year</th>\n",
       "      <th>number</th>\n",
       "    </tr>\n",
       "    <tr>\n",
       "      <th>day</th>\n",
       "      <th></th>\n",
       "      <th></th>\n",
       "    </tr>\n",
       "  </thead>\n",
       "  <tbody>\n",
       "    <tr>\n",
       "      <th>Friday</th>\n",
       "      <td>72300</td>\n",
       "      <td>5446.480</td>\n",
       "    </tr>\n",
       "    <tr>\n",
       "      <th>Monday</th>\n",
       "      <td>48096</td>\n",
       "      <td>1886.601</td>\n",
       "    </tr>\n",
       "    <tr>\n",
       "      <th>Saturday</th>\n",
       "      <td>72192</td>\n",
       "      <td>4162.666</td>\n",
       "    </tr>\n",
       "    <tr>\n",
       "      <th>Sunday</th>\n",
       "      <td>70403</td>\n",
       "      <td>3015.186</td>\n",
       "    </tr>\n",
       "    <tr>\n",
       "      <th>Thursday</th>\n",
       "      <td>96312</td>\n",
       "      <td>5754.802</td>\n",
       "    </tr>\n",
       "    <tr>\n",
       "      <th>Tuesday</th>\n",
       "      <td>72276</td>\n",
       "      <td>6474.217</td>\n",
       "    </tr>\n",
       "    <tr>\n",
       "      <th>Wednesday</th>\n",
       "      <td>48204</td>\n",
       "      <td>3910.177</td>\n",
       "    </tr>\n",
       "  </tbody>\n",
       "</table>\n",
       "</div>"
      ],
      "text/plain": [
       "            year   number\n",
       "day                      \n",
       "Friday     72300 5446.480\n",
       "Monday     48096 1886.601\n",
       "Saturday   72192 4162.666\n",
       "Sunday     70403 3015.186\n",
       "Thursday   96312 5754.802\n",
       "Tuesday    72276 6474.217\n",
       "Wednesday  48204 3910.177"
      ]
     },
     "execution_count": 90,
     "metadata": {},
     "output_type": "execute_result"
    }
   ],
   "source": [
    "forest_fire[forest_fire.state==\"Amazonas\"].groupby(by=\"day\").sum()"
   ]
  },
  {
   "cell_type": "code",
   "execution_count": null,
   "id": "b5e3e03d",
   "metadata": {},
   "outputs": [],
   "source": []
  },
  {
   "cell_type": "markdown",
   "id": "641b478c",
   "metadata": {},
   "source": [
    "**16. Find Total Number of Fires  Were Reported In 2015 And Visualize Data Based on Each ‘Month’**"
   ]
  },
  {
   "cell_type": "code",
   "execution_count": 102,
   "id": "aad0ba1c",
   "metadata": {},
   "outputs": [
    {
     "data": {
      "text/plain": [
       "<AxesSubplot:xlabel='month'>"
      ]
     },
     "execution_count": 102,
     "metadata": {},
     "output_type": "execute_result"
    },
    {
     "data": {
      "image/png": "[encoded data removed]",
      "text/plain": [
       "<Figure size 640x480 with 1 Axes>"
      ]
     },
     "metadata": {},
     "output_type": "display_data"
    }
   ],
   "source": [
    "forest_fire[forest_fire['year']==2015].groupby(by=\"month\").sum()[\"number\"].plot(kind=\"bar\", edgecolor=\"black\")"
   ]
  },
  {
   "cell_type": "code",
   "execution_count": null,
   "id": "28b74ad5",
   "metadata": {},
   "outputs": [],
   "source": []
  },
  {
   "cell_type": "markdown",
   "id": "4e2373f3",
   "metadata": {},
   "source": [
    "**17. Find Average Number of Fires Were Reported From Highest to Lowest (State-Wise)**"
   ]
  },
  {
   "cell_type": "code",
   "execution_count": 106,
   "id": "75ab0c9e",
   "metadata": {
    "scrolled": true
   },
   "outputs": [
    {
     "data": {
      "text/html": [
       "<div>\n",
       "<style scoped>\n",
       "    .dataframe tbody tr th:only-of-type {\n",
       "        vertical-align: middle;\n",
       "    }\n",
       "\n",
       "    .dataframe tbody tr th {\n",
       "        vertical-align: top;\n",
       "    }\n",
       "\n",
       "    .dataframe thead th {\n",
       "        text-align: right;\n",
       "    }\n",
       "</style>\n",
       "<table border=\"1\" class=\"dataframe\">\n",
       "  <thead>\n",
       "    <tr style=\"text-align: right;\">\n",
       "      <th></th>\n",
       "      <th>number</th>\n",
       "    </tr>\n",
       "    <tr>\n",
       "      <th>state</th>\n",
       "      <th></th>\n",
       "    </tr>\n",
       "  </thead>\n",
       "  <tbody>\n",
       "    <tr>\n",
       "      <th>Sao Paulo</th>\n",
       "      <td>213.896</td>\n",
       "    </tr>\n",
       "    <tr>\n",
       "      <th>Mato Grosso</th>\n",
       "      <td>203.480</td>\n",
       "    </tr>\n",
       "    <tr>\n",
       "      <th>Bahia</th>\n",
       "      <td>187.223</td>\n",
       "    </tr>\n",
       "    <tr>\n",
       "      <th>Piau</th>\n",
       "      <td>158.175</td>\n",
       "    </tr>\n",
       "    <tr>\n",
       "      <th>Goias</th>\n",
       "      <td>157.722</td>\n",
       "    </tr>\n",
       "    <tr>\n",
       "      <th>Minas Gerais</th>\n",
       "      <td>156.800</td>\n",
       "    </tr>\n",
       "    <tr>\n",
       "      <th>Tocantins</th>\n",
       "      <td>141.037</td>\n",
       "    </tr>\n",
       "    <tr>\n",
       "      <th>Amazonas</th>\n",
       "      <td>128.243</td>\n",
       "    </tr>\n",
       "    <tr>\n",
       "      <th>Ceara</th>\n",
       "      <td>127.314</td>\n",
       "    </tr>\n",
       "    <tr>\n",
       "      <th>Paraiba</th>\n",
       "      <td>111.074</td>\n",
       "    </tr>\n",
       "    <tr>\n",
       "      <th>Maranhao</th>\n",
       "      <td>105.143</td>\n",
       "    </tr>\n",
       "    <tr>\n",
       "      <th>Pará</th>\n",
       "      <td>102.561</td>\n",
       "    </tr>\n",
       "    <tr>\n",
       "      <th>Pernambuco</th>\n",
       "      <td>102.502</td>\n",
       "    </tr>\n",
       "    <tr>\n",
       "      <th>Roraima</th>\n",
       "      <td>102.030</td>\n",
       "    </tr>\n",
       "    <tr>\n",
       "      <th>Santa Catarina</th>\n",
       "      <td>101.924</td>\n",
       "    </tr>\n",
       "    <tr>\n",
       "      <th>Amapa</th>\n",
       "      <td>91.346</td>\n",
       "    </tr>\n",
       "    <tr>\n",
       "      <th>Rondonia</th>\n",
       "      <td>84.876</td>\n",
       "    </tr>\n",
       "    <tr>\n",
       "      <th>Acre</th>\n",
       "      <td>77.255</td>\n",
       "    </tr>\n",
       "    <tr>\n",
       "      <th>Rio</th>\n",
       "      <td>64.699</td>\n",
       "    </tr>\n",
       "    <tr>\n",
       "      <th>Espirito Santo</th>\n",
       "      <td>27.389</td>\n",
       "    </tr>\n",
       "    <tr>\n",
       "      <th>Alagoas</th>\n",
       "      <td>19.272</td>\n",
       "    </tr>\n",
       "    <tr>\n",
       "      <th>Distrito Federal</th>\n",
       "      <td>14.900</td>\n",
       "    </tr>\n",
       "    <tr>\n",
       "      <th>Sergipe</th>\n",
       "      <td>13.544</td>\n",
       "    </tr>\n",
       "  </tbody>\n",
       "</table>\n",
       "</div>"
      ],
      "text/plain": [
       "                  number\n",
       "state                   \n",
       "Sao Paulo        213.896\n",
       "Mato Grosso      203.480\n",
       "Bahia            187.223\n",
       "Piau             158.175\n",
       "Goias            157.722\n",
       "Minas Gerais     156.800\n",
       "Tocantins        141.037\n",
       "Amazonas         128.243\n",
       "Ceara            127.314\n",
       "Paraiba          111.074\n",
       "Maranhao         105.143\n",
       "Pará             102.561\n",
       "Pernambuco       102.502\n",
       "Roraima          102.030\n",
       "Santa Catarina   101.924\n",
       "Amapa             91.346\n",
       "Rondonia          84.876\n",
       "Acre              77.255\n",
       "Rio               64.699\n",
       "Espirito Santo    27.389\n",
       "Alagoas           19.272\n",
       "Distrito Federal  14.900\n",
       "Sergipe           13.544"
      ]
     },
     "execution_count": 106,
     "metadata": {},
     "output_type": "execute_result"
    }
   ],
   "source": [
    "forest_fire.groupby(by=\"state\").mean().sort_values(by=\"number\", ascending=False)['number'].to_frame()"
   ]
  },
  {
   "cell_type": "code",
   "execution_count": 107,
   "id": "9113faaf",
   "metadata": {},
   "outputs": [
    {
     "data": {
      "text/plain": [
       "array(['January', 'February', 'March', 'April', 'May', 'June', 'July',\n",
       "       'August', 'September', 'October', 'November', 'December'],\n",
       "      dtype=object)"
      ]
     },
     "execution_count": 107,
     "metadata": {},
     "output_type": "execute_result"
    }
   ],
   "source": [
    "forest_fire.month.unique()"
   ]
  },
  {
   "cell_type": "markdown",
   "id": "35983ab5",
   "metadata": {},
   "source": [
    "**18. To Find The State Names Where Fires Were Reported In 'dec' Month**"
   ]
  },
  {
   "cell_type": "code",
   "execution_count": 110,
   "id": "c7ed2aed",
   "metadata": {},
   "outputs": [
    {
     "data": {
      "text/plain": [
       "array(['Acre', 'Alagoas', 'Amapa', 'Amazonas', 'Bahia', 'Ceara',\n",
       "       'Distrito Federal', 'Espirito Santo', 'Goias', 'Maranhao',\n",
       "       'Mato Grosso', 'Minas Gerais', 'Pará', 'Paraiba', 'Pernambuco',\n",
       "       'Piau', 'Rio', 'Rondonia', 'Roraima', 'Santa Catarina',\n",
       "       'Sao Paulo', 'Sergipe', 'Tocantins'], dtype=object)"
      ]
     },
     "execution_count": 110,
     "metadata": {},
     "output_type": "execute_result"
    }
   ],
   "source": [
    "forest_fire[forest_fire['month']== 'December'][\"state\"].unique()"
   ]
  },
  {
   "cell_type": "code",
   "execution_count": null,
   "id": "c1168c67",
   "metadata": {},
   "outputs": [],
   "source": []
  }
 ],
 "metadata": {
  "kernelspec": {
   "display_name": "Python 3 (ipykernel)",
   "language": "python",
   "name": "python3"
  },
  "language_info": {
   "codemirror_mode": {
    "name": "ipython",
    "version": 3
   },
   "file_extension": ".py",
   "mimetype": "text/x-python",
   "name": "python",
   "nbconvert_exporter": "python",
   "pygments_lexer": "ipython3",
   "version": "3.9.13"
  }
 },
 "nbformat": 4,
 "nbformat_minor": 5
}
